{
 "cells": [
  {
   "cell_type": "code",
   "execution_count": 1,
   "metadata": {
    "colab": {
     "base_uri": "https://localhost:8080/",
     "height": 0
    },
    "id": "Hx2SN-aAQXOK",
    "outputId": "357f5dfc-cb6d-4523-b5c0-6f48d66a7e7a"
   },
   "outputs": [
    {
     "name": "stdout",
     "output_type": "stream",
     "text": [
      "Collecting pyspark\n",
      "  Downloading pyspark-3.5.2.tar.gz (317.3 MB)\n",
      "\u001b[2K     \u001b[90m━━━━━━━━━━━━━━━━━━━━━━━━━━━━━━━━━━━━━━━━\u001b[0m \u001b[32m317.3/317.3 MB\u001b[0m \u001b[31m3.6 MB/s\u001b[0m eta \u001b[36m0:00:00\u001b[0m\n",
      "\u001b[?25h  Preparing metadata (setup.py) ... \u001b[?25l\u001b[?25hdone\n",
      "Requirement already satisfied: py4j==0.10.9.7 in /usr/local/lib/python3.10/dist-packages (from pyspark) (0.10.9.7)\n",
      "Building wheels for collected packages: pyspark\n",
      "  Building wheel for pyspark (setup.py) ... \u001b[?25l\u001b[?25hdone\n",
      "  Created wheel for pyspark: filename=pyspark-3.5.2-py2.py3-none-any.whl size=317812365 sha256=9f2d921fab89a6bef26a3be0881b19d887505f019c100b26c95db2e246280215\n",
      "  Stored in directory: /root/.cache/pip/wheels/34/34/bd/03944534c44b677cd5859f248090daa9fb27b3c8f8e5f49574\n",
      "Successfully built pyspark\n",
      "Installing collected packages: pyspark\n",
      "Successfully installed pyspark-3.5.2\n"
     ]
    }
   ],
   "source": [
    "!pip install pyspark"
   ]
  },
  {
   "cell_type": "code",
   "execution_count": 2,
   "metadata": {
    "id": "uVoDITJ7RMcj"
   },
   "outputs": [],
   "source": [
    "import pyspark\n",
    "from pyspark import SparkContext\n",
    "from pyspark.sql import SparkSession\n",
    "import shutil\n",
    "from pyspark.sql import functions as f\n"
   ]
  },
  {
   "cell_type": "code",
   "execution_count": 3,
   "metadata": {
    "id": "SZZjn-5ORrl5"
   },
   "outputs": [],
   "source": [
    "\n",
    "spark = SparkSession.builder.appName(\"Banking Project\").getOrCreate()"
   ]
  },
  {
   "cell_type": "code",
   "execution_count": 4,
   "metadata": {
    "colab": {
     "base_uri": "https://localhost:8080/",
     "height": 219
    },
    "id": "ybaz2-AnR9Fx",
    "outputId": "d49cf34b-85e3-4d61-f0b6-e3265e040d0b"
   },
   "outputs": [
    {
     "data": {
      "text/html": [
       "\n",
       "            <div>\n",
       "                <p><b>SparkSession - in-memory</b></p>\n",
       "                \n",
       "        <div>\n",
       "            <p><b>SparkContext</b></p>\n",
       "\n",
       "            <p><a href=\"http://f96effa9c6ec:4040\">Spark UI</a></p>\n",
       "\n",
       "            <dl>\n",
       "              <dt>Version</dt>\n",
       "                <dd><code>v3.5.2</code></dd>\n",
       "              <dt>Master</dt>\n",
       "                <dd><code>local[*]</code></dd>\n",
       "              <dt>AppName</dt>\n",
       "                <dd><code>Banking Project</code></dd>\n",
       "            </dl>\n",
       "        </div>\n",
       "        \n",
       "            </div>\n",
       "        "
      ],
      "text/plain": [
       "<pyspark.sql.session.SparkSession at 0x78eec1a4f160>"
      ]
     },
     "execution_count": 4,
     "metadata": {},
     "output_type": "execute_result"
    }
   ],
   "source": [
    "spark"
   ]
  },
  {
   "cell_type": "code",
   "execution_count": 5,
   "metadata": {
    "id": "KXKK09Q_SAUY"
   },
   "outputs": [],
   "source": [
    "from google.colab import files"
   ]
  },
  {
   "cell_type": "markdown",
   "metadata": {
    "id": "5BIgQvs3XvfW"
   },
   "source": [
    "Upload 1st file"
   ]
  },
  {
   "cell_type": "code",
   "execution_count": 6,
   "metadata": {
    "colab": {
     "base_uri": "https://localhost:8080/",
     "height": 73
    },
    "id": "aHNoq4HvSGvt",
    "outputId": "32cd5713-2ac3-48a7-c5d7-f1322766659e"
   },
   "outputs": [
    {
     "data": {
      "text/html": [
       "\n",
       "     <input type=\"file\" id=\"files-f1a954b3-f253-4fe4-aa72-bd051dee44f0\" name=\"files[]\" multiple disabled\n",
       "        style=\"border:none\" />\n",
       "     <output id=\"result-f1a954b3-f253-4fe4-aa72-bd051dee44f0\">\n",
       "      Upload widget is only available when the cell has been executed in the\n",
       "      current browser session. Please rerun this cell to enable.\n",
       "      </output>\n",
       "      <script>// Copyright 2017 Google LLC\n",
       "//\n",
       "// Licensed under the Apache License, Version 2.0 (the \"License\");\n",
       "// you may not use this file except in compliance with the License.\n",
       "// You may obtain a copy of the License at\n",
       "//\n",
       "//      http://www.apache.org/licenses/LICENSE-2.0\n",
       "//\n",
       "// Unless required by applicable law or agreed to in writing, software\n",
       "// distributed under the License is distributed on an \"AS IS\" BASIS,\n",
       "// WITHOUT WARRANTIES OR CONDITIONS OF ANY KIND, either express or implied.\n",
       "// See the License for the specific language governing permissions and\n",
       "// limitations under the License.\n",
       "\n",
       "/**\n",
       " * @fileoverview Helpers for google.colab Python module.\n",
       " */\n",
       "(function(scope) {\n",
       "function span(text, styleAttributes = {}) {\n",
       "  const element = document.createElement('span');\n",
       "  element.textContent = text;\n",
       "  for (const key of Object.keys(styleAttributes)) {\n",
       "    element.style[key] = styleAttributes[key];\n",
       "  }\n",
       "  return element;\n",
       "}\n",
       "\n",
       "// Max number of bytes which will be uploaded at a time.\n",
       "const MAX_PAYLOAD_SIZE = 100 * 1024;\n",
       "\n",
       "function _uploadFiles(inputId, outputId) {\n",
       "  const steps = uploadFilesStep(inputId, outputId);\n",
       "  const outputElement = document.getElementById(outputId);\n",
       "  // Cache steps on the outputElement to make it available for the next call\n",
       "  // to uploadFilesContinue from Python.\n",
       "  outputElement.steps = steps;\n",
       "\n",
       "  return _uploadFilesContinue(outputId);\n",
       "}\n",
       "\n",
       "// This is roughly an async generator (not supported in the browser yet),\n",
       "// where there are multiple asynchronous steps and the Python side is going\n",
       "// to poll for completion of each step.\n",
       "// This uses a Promise to block the python side on completion of each step,\n",
       "// then passes the result of the previous step as the input to the next step.\n",
       "function _uploadFilesContinue(outputId) {\n",
       "  const outputElement = document.getElementById(outputId);\n",
       "  const steps = outputElement.steps;\n",
       "\n",
       "  const next = steps.next(outputElement.lastPromiseValue);\n",
       "  return Promise.resolve(next.value.promise).then((value) => {\n",
       "    // Cache the last promise value to make it available to the next\n",
       "    // step of the generator.\n",
       "    outputElement.lastPromiseValue = value;\n",
       "    return next.value.response;\n",
       "  });\n",
       "}\n",
       "\n",
       "/**\n",
       " * Generator function which is called between each async step of the upload\n",
       " * process.\n",
       " * @param {string} inputId Element ID of the input file picker element.\n",
       " * @param {string} outputId Element ID of the output display.\n",
       " * @return {!Iterable<!Object>} Iterable of next steps.\n",
       " */\n",
       "function* uploadFilesStep(inputId, outputId) {\n",
       "  const inputElement = document.getElementById(inputId);\n",
       "  inputElement.disabled = false;\n",
       "\n",
       "  const outputElement = document.getElementById(outputId);\n",
       "  outputElement.innerHTML = '';\n",
       "\n",
       "  const pickedPromise = new Promise((resolve) => {\n",
       "    inputElement.addEventListener('change', (e) => {\n",
       "      resolve(e.target.files);\n",
       "    });\n",
       "  });\n",
       "\n",
       "  const cancel = document.createElement('button');\n",
       "  inputElement.parentElement.appendChild(cancel);\n",
       "  cancel.textContent = 'Cancel upload';\n",
       "  const cancelPromise = new Promise((resolve) => {\n",
       "    cancel.onclick = () => {\n",
       "      resolve(null);\n",
       "    };\n",
       "  });\n",
       "\n",
       "  // Wait for the user to pick the files.\n",
       "  const files = yield {\n",
       "    promise: Promise.race([pickedPromise, cancelPromise]),\n",
       "    response: {\n",
       "      action: 'starting',\n",
       "    }\n",
       "  };\n",
       "\n",
       "  cancel.remove();\n",
       "\n",
       "  // Disable the input element since further picks are not allowed.\n",
       "  inputElement.disabled = true;\n",
       "\n",
       "  if (!files) {\n",
       "    return {\n",
       "      response: {\n",
       "        action: 'complete',\n",
       "      }\n",
       "    };\n",
       "  }\n",
       "\n",
       "  for (const file of files) {\n",
       "    const li = document.createElement('li');\n",
       "    li.append(span(file.name, {fontWeight: 'bold'}));\n",
       "    li.append(span(\n",
       "        `(${file.type || 'n/a'}) - ${file.size} bytes, ` +\n",
       "        `last modified: ${\n",
       "            file.lastModifiedDate ? file.lastModifiedDate.toLocaleDateString() :\n",
       "                                    'n/a'} - `));\n",
       "    const percent = span('0% done');\n",
       "    li.appendChild(percent);\n",
       "\n",
       "    outputElement.appendChild(li);\n",
       "\n",
       "    const fileDataPromise = new Promise((resolve) => {\n",
       "      const reader = new FileReader();\n",
       "      reader.onload = (e) => {\n",
       "        resolve(e.target.result);\n",
       "      };\n",
       "      reader.readAsArrayBuffer(file);\n",
       "    });\n",
       "    // Wait for the data to be ready.\n",
       "    let fileData = yield {\n",
       "      promise: fileDataPromise,\n",
       "      response: {\n",
       "        action: 'continue',\n",
       "      }\n",
       "    };\n",
       "\n",
       "    // Use a chunked sending to avoid message size limits. See b/62115660.\n",
       "    let position = 0;\n",
       "    do {\n",
       "      const length = Math.min(fileData.byteLength - position, MAX_PAYLOAD_SIZE);\n",
       "      const chunk = new Uint8Array(fileData, position, length);\n",
       "      position += length;\n",
       "\n",
       "      const base64 = btoa(String.fromCharCode.apply(null, chunk));\n",
       "      yield {\n",
       "        response: {\n",
       "          action: 'append',\n",
       "          file: file.name,\n",
       "          data: base64,\n",
       "        },\n",
       "      };\n",
       "\n",
       "      let percentDone = fileData.byteLength === 0 ?\n",
       "          100 :\n",
       "          Math.round((position / fileData.byteLength) * 100);\n",
       "      percent.textContent = `${percentDone}% done`;\n",
       "\n",
       "    } while (position < fileData.byteLength);\n",
       "  }\n",
       "\n",
       "  // All done.\n",
       "  yield {\n",
       "    response: {\n",
       "      action: 'complete',\n",
       "    }\n",
       "  };\n",
       "}\n",
       "\n",
       "scope.google = scope.google || {};\n",
       "scope.google.colab = scope.google.colab || {};\n",
       "scope.google.colab._files = {\n",
       "  _uploadFiles,\n",
       "  _uploadFilesContinue,\n",
       "};\n",
       "})(self);\n",
       "</script> "
      ],
      "text/plain": [
       "<IPython.core.display.HTML object>"
      ]
     },
     "metadata": {},
     "output_type": "display_data"
    },
    {
     "name": "stdout",
     "output_type": "stream",
     "text": [
      "Saving loan.csv to loan.csv\n"
     ]
    }
   ],
   "source": [
    "files_1 = files.upload()"
   ]
  },
  {
   "cell_type": "markdown",
   "metadata": {
    "id": "Plo3pw3BX28D"
   },
   "source": [
    "upload 2nd file"
   ]
  },
  {
   "cell_type": "code",
   "execution_count": 7,
   "metadata": {
    "colab": {
     "base_uri": "https://localhost:8080/",
     "height": 73
    },
    "id": "YRfjZNISSLJb",
    "outputId": "44a324f1-1cdd-49d9-96ae-9f83084fea53"
   },
   "outputs": [
    {
     "data": {
      "text/html": [
       "\n",
       "     <input type=\"file\" id=\"files-8faff016-57b6-49e2-a090-59cbeb2297b9\" name=\"files[]\" multiple disabled\n",
       "        style=\"border:none\" />\n",
       "     <output id=\"result-8faff016-57b6-49e2-a090-59cbeb2297b9\">\n",
       "      Upload widget is only available when the cell has been executed in the\n",
       "      current browser session. Please rerun this cell to enable.\n",
       "      </output>\n",
       "      <script>// Copyright 2017 Google LLC\n",
       "//\n",
       "// Licensed under the Apache License, Version 2.0 (the \"License\");\n",
       "// you may not use this file except in compliance with the License.\n",
       "// You may obtain a copy of the License at\n",
       "//\n",
       "//      http://www.apache.org/licenses/LICENSE-2.0\n",
       "//\n",
       "// Unless required by applicable law or agreed to in writing, software\n",
       "// distributed under the License is distributed on an \"AS IS\" BASIS,\n",
       "// WITHOUT WARRANTIES OR CONDITIONS OF ANY KIND, either express or implied.\n",
       "// See the License for the specific language governing permissions and\n",
       "// limitations under the License.\n",
       "\n",
       "/**\n",
       " * @fileoverview Helpers for google.colab Python module.\n",
       " */\n",
       "(function(scope) {\n",
       "function span(text, styleAttributes = {}) {\n",
       "  const element = document.createElement('span');\n",
       "  element.textContent = text;\n",
       "  for (const key of Object.keys(styleAttributes)) {\n",
       "    element.style[key] = styleAttributes[key];\n",
       "  }\n",
       "  return element;\n",
       "}\n",
       "\n",
       "// Max number of bytes which will be uploaded at a time.\n",
       "const MAX_PAYLOAD_SIZE = 100 * 1024;\n",
       "\n",
       "function _uploadFiles(inputId, outputId) {\n",
       "  const steps = uploadFilesStep(inputId, outputId);\n",
       "  const outputElement = document.getElementById(outputId);\n",
       "  // Cache steps on the outputElement to make it available for the next call\n",
       "  // to uploadFilesContinue from Python.\n",
       "  outputElement.steps = steps;\n",
       "\n",
       "  return _uploadFilesContinue(outputId);\n",
       "}\n",
       "\n",
       "// This is roughly an async generator (not supported in the browser yet),\n",
       "// where there are multiple asynchronous steps and the Python side is going\n",
       "// to poll for completion of each step.\n",
       "// This uses a Promise to block the python side on completion of each step,\n",
       "// then passes the result of the previous step as the input to the next step.\n",
       "function _uploadFilesContinue(outputId) {\n",
       "  const outputElement = document.getElementById(outputId);\n",
       "  const steps = outputElement.steps;\n",
       "\n",
       "  const next = steps.next(outputElement.lastPromiseValue);\n",
       "  return Promise.resolve(next.value.promise).then((value) => {\n",
       "    // Cache the last promise value to make it available to the next\n",
       "    // step of the generator.\n",
       "    outputElement.lastPromiseValue = value;\n",
       "    return next.value.response;\n",
       "  });\n",
       "}\n",
       "\n",
       "/**\n",
       " * Generator function which is called between each async step of the upload\n",
       " * process.\n",
       " * @param {string} inputId Element ID of the input file picker element.\n",
       " * @param {string} outputId Element ID of the output display.\n",
       " * @return {!Iterable<!Object>} Iterable of next steps.\n",
       " */\n",
       "function* uploadFilesStep(inputId, outputId) {\n",
       "  const inputElement = document.getElementById(inputId);\n",
       "  inputElement.disabled = false;\n",
       "\n",
       "  const outputElement = document.getElementById(outputId);\n",
       "  outputElement.innerHTML = '';\n",
       "\n",
       "  const pickedPromise = new Promise((resolve) => {\n",
       "    inputElement.addEventListener('change', (e) => {\n",
       "      resolve(e.target.files);\n",
       "    });\n",
       "  });\n",
       "\n",
       "  const cancel = document.createElement('button');\n",
       "  inputElement.parentElement.appendChild(cancel);\n",
       "  cancel.textContent = 'Cancel upload';\n",
       "  const cancelPromise = new Promise((resolve) => {\n",
       "    cancel.onclick = () => {\n",
       "      resolve(null);\n",
       "    };\n",
       "  });\n",
       "\n",
       "  // Wait for the user to pick the files.\n",
       "  const files = yield {\n",
       "    promise: Promise.race([pickedPromise, cancelPromise]),\n",
       "    response: {\n",
       "      action: 'starting',\n",
       "    }\n",
       "  };\n",
       "\n",
       "  cancel.remove();\n",
       "\n",
       "  // Disable the input element since further picks are not allowed.\n",
       "  inputElement.disabled = true;\n",
       "\n",
       "  if (!files) {\n",
       "    return {\n",
       "      response: {\n",
       "        action: 'complete',\n",
       "      }\n",
       "    };\n",
       "  }\n",
       "\n",
       "  for (const file of files) {\n",
       "    const li = document.createElement('li');\n",
       "    li.append(span(file.name, {fontWeight: 'bold'}));\n",
       "    li.append(span(\n",
       "        `(${file.type || 'n/a'}) - ${file.size} bytes, ` +\n",
       "        `last modified: ${\n",
       "            file.lastModifiedDate ? file.lastModifiedDate.toLocaleDateString() :\n",
       "                                    'n/a'} - `));\n",
       "    const percent = span('0% done');\n",
       "    li.appendChild(percent);\n",
       "\n",
       "    outputElement.appendChild(li);\n",
       "\n",
       "    const fileDataPromise = new Promise((resolve) => {\n",
       "      const reader = new FileReader();\n",
       "      reader.onload = (e) => {\n",
       "        resolve(e.target.result);\n",
       "      };\n",
       "      reader.readAsArrayBuffer(file);\n",
       "    });\n",
       "    // Wait for the data to be ready.\n",
       "    let fileData = yield {\n",
       "      promise: fileDataPromise,\n",
       "      response: {\n",
       "        action: 'continue',\n",
       "      }\n",
       "    };\n",
       "\n",
       "    // Use a chunked sending to avoid message size limits. See b/62115660.\n",
       "    let position = 0;\n",
       "    do {\n",
       "      const length = Math.min(fileData.byteLength - position, MAX_PAYLOAD_SIZE);\n",
       "      const chunk = new Uint8Array(fileData, position, length);\n",
       "      position += length;\n",
       "\n",
       "      const base64 = btoa(String.fromCharCode.apply(null, chunk));\n",
       "      yield {\n",
       "        response: {\n",
       "          action: 'append',\n",
       "          file: file.name,\n",
       "          data: base64,\n",
       "        },\n",
       "      };\n",
       "\n",
       "      let percentDone = fileData.byteLength === 0 ?\n",
       "          100 :\n",
       "          Math.round((position / fileData.byteLength) * 100);\n",
       "      percent.textContent = `${percentDone}% done`;\n",
       "\n",
       "    } while (position < fileData.byteLength);\n",
       "  }\n",
       "\n",
       "  // All done.\n",
       "  yield {\n",
       "    response: {\n",
       "      action: 'complete',\n",
       "    }\n",
       "  };\n",
       "}\n",
       "\n",
       "scope.google = scope.google || {};\n",
       "scope.google.colab = scope.google.colab || {};\n",
       "scope.google.colab._files = {\n",
       "  _uploadFiles,\n",
       "  _uploadFilesContinue,\n",
       "};\n",
       "})(self);\n",
       "</script> "
      ],
      "text/plain": [
       "<IPython.core.display.HTML object>"
      ]
     },
     "metadata": {},
     "output_type": "display_data"
    },
    {
     "name": "stdout",
     "output_type": "stream",
     "text": [
      "Saving credit card.csv to credit card.csv\n"
     ]
    }
   ],
   "source": [
    "files_2 = files.upload()"
   ]
  },
  {
   "cell_type": "markdown",
   "metadata": {
    "id": "aDRrmgeWX56f"
   },
   "source": [
    "upload 3rd file"
   ]
  },
  {
   "cell_type": "code",
   "execution_count": 8,
   "metadata": {
    "colab": {
     "base_uri": "https://localhost:8080/",
     "height": 73
    },
    "id": "ABMiW19pTJGb",
    "outputId": "7ce59545-7915-4968-8281-0cd311f80b79"
   },
   "outputs": [
    {
     "data": {
      "text/html": [
       "\n",
       "     <input type=\"file\" id=\"files-bae5ae8c-0405-4e2a-b0d0-fcf92fe582c3\" name=\"files[]\" multiple disabled\n",
       "        style=\"border:none\" />\n",
       "     <output id=\"result-bae5ae8c-0405-4e2a-b0d0-fcf92fe582c3\">\n",
       "      Upload widget is only available when the cell has been executed in the\n",
       "      current browser session. Please rerun this cell to enable.\n",
       "      </output>\n",
       "      <script>// Copyright 2017 Google LLC\n",
       "//\n",
       "// Licensed under the Apache License, Version 2.0 (the \"License\");\n",
       "// you may not use this file except in compliance with the License.\n",
       "// You may obtain a copy of the License at\n",
       "//\n",
       "//      http://www.apache.org/licenses/LICENSE-2.0\n",
       "//\n",
       "// Unless required by applicable law or agreed to in writing, software\n",
       "// distributed under the License is distributed on an \"AS IS\" BASIS,\n",
       "// WITHOUT WARRANTIES OR CONDITIONS OF ANY KIND, either express or implied.\n",
       "// See the License for the specific language governing permissions and\n",
       "// limitations under the License.\n",
       "\n",
       "/**\n",
       " * @fileoverview Helpers for google.colab Python module.\n",
       " */\n",
       "(function(scope) {\n",
       "function span(text, styleAttributes = {}) {\n",
       "  const element = document.createElement('span');\n",
       "  element.textContent = text;\n",
       "  for (const key of Object.keys(styleAttributes)) {\n",
       "    element.style[key] = styleAttributes[key];\n",
       "  }\n",
       "  return element;\n",
       "}\n",
       "\n",
       "// Max number of bytes which will be uploaded at a time.\n",
       "const MAX_PAYLOAD_SIZE = 100 * 1024;\n",
       "\n",
       "function _uploadFiles(inputId, outputId) {\n",
       "  const steps = uploadFilesStep(inputId, outputId);\n",
       "  const outputElement = document.getElementById(outputId);\n",
       "  // Cache steps on the outputElement to make it available for the next call\n",
       "  // to uploadFilesContinue from Python.\n",
       "  outputElement.steps = steps;\n",
       "\n",
       "  return _uploadFilesContinue(outputId);\n",
       "}\n",
       "\n",
       "// This is roughly an async generator (not supported in the browser yet),\n",
       "// where there are multiple asynchronous steps and the Python side is going\n",
       "// to poll for completion of each step.\n",
       "// This uses a Promise to block the python side on completion of each step,\n",
       "// then passes the result of the previous step as the input to the next step.\n",
       "function _uploadFilesContinue(outputId) {\n",
       "  const outputElement = document.getElementById(outputId);\n",
       "  const steps = outputElement.steps;\n",
       "\n",
       "  const next = steps.next(outputElement.lastPromiseValue);\n",
       "  return Promise.resolve(next.value.promise).then((value) => {\n",
       "    // Cache the last promise value to make it available to the next\n",
       "    // step of the generator.\n",
       "    outputElement.lastPromiseValue = value;\n",
       "    return next.value.response;\n",
       "  });\n",
       "}\n",
       "\n",
       "/**\n",
       " * Generator function which is called between each async step of the upload\n",
       " * process.\n",
       " * @param {string} inputId Element ID of the input file picker element.\n",
       " * @param {string} outputId Element ID of the output display.\n",
       " * @return {!Iterable<!Object>} Iterable of next steps.\n",
       " */\n",
       "function* uploadFilesStep(inputId, outputId) {\n",
       "  const inputElement = document.getElementById(inputId);\n",
       "  inputElement.disabled = false;\n",
       "\n",
       "  const outputElement = document.getElementById(outputId);\n",
       "  outputElement.innerHTML = '';\n",
       "\n",
       "  const pickedPromise = new Promise((resolve) => {\n",
       "    inputElement.addEventListener('change', (e) => {\n",
       "      resolve(e.target.files);\n",
       "    });\n",
       "  });\n",
       "\n",
       "  const cancel = document.createElement('button');\n",
       "  inputElement.parentElement.appendChild(cancel);\n",
       "  cancel.textContent = 'Cancel upload';\n",
       "  const cancelPromise = new Promise((resolve) => {\n",
       "    cancel.onclick = () => {\n",
       "      resolve(null);\n",
       "    };\n",
       "  });\n",
       "\n",
       "  // Wait for the user to pick the files.\n",
       "  const files = yield {\n",
       "    promise: Promise.race([pickedPromise, cancelPromise]),\n",
       "    response: {\n",
       "      action: 'starting',\n",
       "    }\n",
       "  };\n",
       "\n",
       "  cancel.remove();\n",
       "\n",
       "  // Disable the input element since further picks are not allowed.\n",
       "  inputElement.disabled = true;\n",
       "\n",
       "  if (!files) {\n",
       "    return {\n",
       "      response: {\n",
       "        action: 'complete',\n",
       "      }\n",
       "    };\n",
       "  }\n",
       "\n",
       "  for (const file of files) {\n",
       "    const li = document.createElement('li');\n",
       "    li.append(span(file.name, {fontWeight: 'bold'}));\n",
       "    li.append(span(\n",
       "        `(${file.type || 'n/a'}) - ${file.size} bytes, ` +\n",
       "        `last modified: ${\n",
       "            file.lastModifiedDate ? file.lastModifiedDate.toLocaleDateString() :\n",
       "                                    'n/a'} - `));\n",
       "    const percent = span('0% done');\n",
       "    li.appendChild(percent);\n",
       "\n",
       "    outputElement.appendChild(li);\n",
       "\n",
       "    const fileDataPromise = new Promise((resolve) => {\n",
       "      const reader = new FileReader();\n",
       "      reader.onload = (e) => {\n",
       "        resolve(e.target.result);\n",
       "      };\n",
       "      reader.readAsArrayBuffer(file);\n",
       "    });\n",
       "    // Wait for the data to be ready.\n",
       "    let fileData = yield {\n",
       "      promise: fileDataPromise,\n",
       "      response: {\n",
       "        action: 'continue',\n",
       "      }\n",
       "    };\n",
       "\n",
       "    // Use a chunked sending to avoid message size limits. See b/62115660.\n",
       "    let position = 0;\n",
       "    do {\n",
       "      const length = Math.min(fileData.byteLength - position, MAX_PAYLOAD_SIZE);\n",
       "      const chunk = new Uint8Array(fileData, position, length);\n",
       "      position += length;\n",
       "\n",
       "      const base64 = btoa(String.fromCharCode.apply(null, chunk));\n",
       "      yield {\n",
       "        response: {\n",
       "          action: 'append',\n",
       "          file: file.name,\n",
       "          data: base64,\n",
       "        },\n",
       "      };\n",
       "\n",
       "      let percentDone = fileData.byteLength === 0 ?\n",
       "          100 :\n",
       "          Math.round((position / fileData.byteLength) * 100);\n",
       "      percent.textContent = `${percentDone}% done`;\n",
       "\n",
       "    } while (position < fileData.byteLength);\n",
       "  }\n",
       "\n",
       "  // All done.\n",
       "  yield {\n",
       "    response: {\n",
       "      action: 'complete',\n",
       "    }\n",
       "  };\n",
       "}\n",
       "\n",
       "scope.google = scope.google || {};\n",
       "scope.google.colab = scope.google.colab || {};\n",
       "scope.google.colab._files = {\n",
       "  _uploadFiles,\n",
       "  _uploadFilesContinue,\n",
       "};\n",
       "})(self);\n",
       "</script> "
      ],
      "text/plain": [
       "<IPython.core.display.HTML object>"
      ]
     },
     "metadata": {},
     "output_type": "display_data"
    },
    {
     "name": "stdout",
     "output_type": "stream",
     "text": [
      "Saving txn.csv to txn.csv\n"
     ]
    }
   ],
   "source": [
    "files_3 = files.upload()"
   ]
  },
  {
   "cell_type": "code",
   "execution_count": 9,
   "metadata": {
    "colab": {
     "base_uri": "https://localhost:8080/",
     "height": 35
    },
    "id": "xFYRl4DUVG4M",
    "outputId": "137a1f73-1a2b-4f5d-cdcc-dcb2aa532374"
   },
   "outputs": [
    {
     "data": {
      "application/vnd.google.colaboratory.intrinsic+json": {
       "type": "string"
      },
      "text/plain": [
       "'/content/loan.csv'"
      ]
     },
     "execution_count": 9,
     "metadata": {},
     "output_type": "execute_result"
    }
   ],
   "source": [
    "filename_1 = list(files_1.keys())[0]\n",
    "shutil.move(filename_1,f'/content/{filename_1}')"
   ]
  },
  {
   "cell_type": "code",
   "execution_count": 10,
   "metadata": {
    "id": "KSsmROcRWZNU"
   },
   "outputs": [],
   "source": [
    "filepath_1 = '/content/loan.csv'"
   ]
  },
  {
   "cell_type": "code",
   "execution_count": 11,
   "metadata": {
    "colab": {
     "base_uri": "https://localhost:8080/",
     "height": 35
    },
    "id": "BYyNwThWWnE0",
    "outputId": "ad733050-a7b4-43c2-9654-818f2f8b0e27"
   },
   "outputs": [
    {
     "data": {
      "application/vnd.google.colaboratory.intrinsic+json": {
       "type": "string"
      },
      "text/plain": [
       "'/content/credit card.csv'"
      ]
     },
     "execution_count": 11,
     "metadata": {},
     "output_type": "execute_result"
    }
   ],
   "source": [
    "filename_2 = list(files_2.keys())[0]\n",
    "shutil.move(filename_2,f'/content/{filename_2}')"
   ]
  },
  {
   "cell_type": "code",
   "execution_count": 12,
   "metadata": {
    "id": "wvwrFHbYXBl2"
   },
   "outputs": [],
   "source": [
    "filepath_2 = '/content/credit card.csv'"
   ]
  },
  {
   "cell_type": "code",
   "execution_count": 13,
   "metadata": {
    "colab": {
     "base_uri": "https://localhost:8080/",
     "height": 35
    },
    "id": "7kfrHCx-XKKn",
    "outputId": "d4052b78-1332-48cb-ed57-e989b4169e8e"
   },
   "outputs": [
    {
     "data": {
      "application/vnd.google.colaboratory.intrinsic+json": {
       "type": "string"
      },
      "text/plain": [
       "'/content/txn.csv'"
      ]
     },
     "execution_count": 13,
     "metadata": {},
     "output_type": "execute_result"
    }
   ],
   "source": [
    "filename_3 = list(files_3.keys())[0]\n",
    "shutil.move(filename_3,f'/content/{filename_3}')"
   ]
  },
  {
   "cell_type": "code",
   "execution_count": 14,
   "metadata": {
    "id": "GYVm_5jFXj-n"
   },
   "outputs": [],
   "source": [
    "filepath_3 = '/content/txn.csv'"
   ]
  },
  {
   "cell_type": "markdown",
   "metadata": {
    "id": "ZotHIQaVYCxc"
   },
   "source": [
    "read 1st file"
   ]
  },
  {
   "cell_type": "code",
   "execution_count": 15,
   "metadata": {
    "id": "4VjIisyQXpGj"
   },
   "outputs": [],
   "source": [
    "df_1 = spark.read.format(\"csv\")\\\n",
    "          .option(\"header\",\"true\")\\\n",
    "          .option(\"inferschema\",\"false\")\\\n",
    "          .option(\"mode\",\"DROPMALFORMED\")\\\n",
    "          .load(filepath_1)\n"
   ]
  },
  {
   "cell_type": "code",
   "execution_count": 16,
   "metadata": {
    "colab": {
     "base_uri": "https://localhost:8080/",
     "height": 0
    },
    "id": "oHtfJrFTYNfg",
    "outputId": "ee09d6d4-e7b4-4ae8-942a-e4fc6f455c29"
   },
   "outputs": [
    {
     "name": "stdout",
     "output_type": "stream",
     "text": [
      "+-----------+---+------+------------+--------------+-----------+--------+-----------+-------------+-------------+-----------+-------+------------+----------------+------------------+\n",
      "|Customer_ID|Age|Gender|  Occupation|Marital Status|Family Size|  Income|Expenditure|Use Frequency|Loan Category|Loan Amount|Overdue| Debt Record| Returned Cheque| Dishonour of Bill|\n",
      "+-----------+---+------+------------+--------------+-----------+--------+-----------+-------------+-------------+-----------+-------+------------+----------------+------------------+\n",
      "|    IB14001| 30|  MALE|BANK MANAGER|        SINGLE|          4|50000.00|   22199.00|            6|      HOUSING| 1000000.00|      5|    42898.00|               6|                 9|\n",
      "|    IB14008| 44|  MALE|   PROFESSOR|       MARRIED|          6|51000.00|   19999.00|            4|     SHOPPING|   50000.00|      3|    33999.00|               1|                 5|\n",
      "|    IB14012| 30|FEMALE|     DENTIST|        SINGLE|          3|58450.00|   27675.00|            5|   TRAVELLING|   75000.00|      6|    20876.00|               3|                 1|\n",
      "|    IB14018| 29|  MALE|     TEACHER|       MARRIED|          5|45767.00|   12787.00|            3|    GOLD LOAN|  600000.00|      7|    11000.00|               0|                 4|\n",
      "|    IB14022| 34|  MALE|      POLICE|        SINGLE|          4|43521.00|   11999.00|            3|   AUTOMOBILE|  200000.00|      2|    43898.00|               1|                 2|\n",
      "+-----------+---+------+------------+--------------+-----------+--------+-----------+-------------+-------------+-----------+-------+------------+----------------+------------------+\n",
      "only showing top 5 rows\n",
      "\n"
     ]
    }
   ],
   "source": [
    "df_1.show(5)"
   ]
  },
  {
   "cell_type": "markdown",
   "metadata": {
    "id": "9SVOgL-jZ4zo"
   },
   "source": [
    "Read 2nd file"
   ]
  },
  {
   "cell_type": "code",
   "execution_count": 17,
   "metadata": {
    "id": "POWon3K4YSAr"
   },
   "outputs": [],
   "source": [
    "df_2 = spark.read.format(\"csv\")\\\n",
    "            .option(\"header\",\"true\")\\\n",
    "            .option(\"inferschema\",\"false\")\\\n",
    "            .option(\"mode\",\"DROPMALFORMED\")\\\n",
    "            .load(filepath_2)"
   ]
  },
  {
   "cell_type": "code",
   "execution_count": 18,
   "metadata": {
    "colab": {
     "base_uri": "https://localhost:8080/",
     "height": 0
    },
    "id": "0O3YNXJVZo-S",
    "outputId": "e1049e20-7a1e-43a0-e37f-1808d7fb4fe2"
   },
   "outputs": [
    {
     "name": "stdout",
     "output_type": "stream",
     "text": [
      "+---------+----------+--------+-----------+---------+------+---+------+---------+-------------+--------------+---------------+------+\n",
      "|RowNumber|CustomerId| Surname|CreditScore|Geography|Gender|Age|Tenure|  Balance|NumOfProducts|IsActiveMember|EstimatedSalary|Exited|\n",
      "+---------+----------+--------+-----------+---------+------+---+------+---------+-------------+--------------+---------------+------+\n",
      "|        1|  15634602|Hargrave|        619|   France|Female| 42|     2|     0.00|            1|             1|      101348.88|     1|\n",
      "|        2|  15647311|    Hill|        608|    Spain|Female| 41|     1| 83807.86|            1|             1|      112542.58|     0|\n",
      "|        3|  15619304|    Onio|        502|   France|Female| 42|     8|159660.80|            3|             0|      113931.57|     1|\n",
      "|        4|  15701354|    Boni|        699|   France|Female| 39|     1|     0.00|            2|             0|       93826.63|     0|\n",
      "|        5|  15737888|Mitchell|        850|    Spain|Female| 43|     2|125510.82|            1|             1|       79084.10|     0|\n",
      "+---------+----------+--------+-----------+---------+------+---+------+---------+-------------+--------------+---------------+------+\n",
      "only showing top 5 rows\n",
      "\n"
     ]
    }
   ],
   "source": [
    "df_2.show(5)"
   ]
  },
  {
   "cell_type": "markdown",
   "metadata": {
    "id": "Myw2AebqZ-Y_"
   },
   "source": [
    "Read 3rd file"
   ]
  },
  {
   "cell_type": "code",
   "execution_count": 19,
   "metadata": {
    "id": "xfEgG9FZZrio"
   },
   "outputs": [],
   "source": [
    "df_3 = spark.read.format(\"csv\")\\\n",
    "            .option(\"header\",\"true\")\\\n",
    "            .option(\"inferschema\",\"false\")\\\n",
    "            .option(\"mode\",\"DROPMALFORMED\")\\\n",
    "            .load(filepath_3)"
   ]
  },
  {
   "cell_type": "code",
   "execution_count": 20,
   "metadata": {
    "colab": {
     "base_uri": "https://localhost:8080/",
     "height": 0
    },
    "id": "-7vTpeO6ZwOM",
    "outputId": "94227ce6-57e7-4ff5-e5d5-940fc40b7493"
   },
   "outputs": [
    {
     "name": "stdout",
     "output_type": "stream",
     "text": [
      "+-------------+--------------------------------+----------+----------------+-------------+-----------+\n",
      "|Account No   |TRANSACTION DETAILS             |VALUE DATE| WITHDRAWAL AMT | DEPOSIT AMT |BALANCE AMT|\n",
      "+-------------+--------------------------------+----------+----------------+-------------+-----------+\n",
      "|409000611074'|TRF FROM  Indiaforensic SERVICES|29-Jun-17 |0.00            |1000000.00   |1000000.00 |\n",
      "|409000611074'|TRF FROM  Indiaforensic SERVICES|05-Jul-17 |0.00            |1000000.00   |2000000.00 |\n",
      "|409000611074'|FDRL/INTERNAL FUND TRANSFE      |18-Jul-17 |0.00            |500000.00    |2500000.00 |\n",
      "|409000611074'|TRF FRM  Indiaforensic SERVICES |01-Aug-17 |0.00            |3000000.00   |5500000.00 |\n",
      "|409000611074'|FDRL/INTERNAL FUND TRANSFE      |16-Aug-17 |0.00            |500000.00    |6000000.00 |\n",
      "+-------------+--------------------------------+----------+----------------+-------------+-----------+\n",
      "only showing top 5 rows\n",
      "\n"
     ]
    }
   ],
   "source": [
    "from os import truncate\n",
    "df_3.show(5,truncate=False)"
   ]
  },
  {
   "cell_type": "code",
   "execution_count": 21,
   "metadata": {
    "colab": {
     "base_uri": "https://localhost:8080/",
     "height": 0
    },
    "id": "qUsr__YjmQM-",
    "outputId": "8d1085b8-7d97-45a6-93f0-18b92a66e195"
   },
   "outputs": [
    {
     "name": "stdout",
     "output_type": "stream",
     "text": [
      "root\n",
      " |-- Customer_ID: string (nullable = true)\n",
      " |-- Age: string (nullable = true)\n",
      " |-- Gender: string (nullable = true)\n",
      " |-- Occupation: string (nullable = true)\n",
      " |-- Marital Status: string (nullable = true)\n",
      " |-- Family Size: string (nullable = true)\n",
      " |-- Income: string (nullable = true)\n",
      " |-- Expenditure: string (nullable = true)\n",
      " |-- Use Frequency: string (nullable = true)\n",
      " |-- Loan Category: string (nullable = true)\n",
      " |-- Loan Amount: string (nullable = true)\n",
      " |-- Overdue: string (nullable = true)\n",
      " |--  Debt Record: string (nullable = true)\n",
      " |--  Returned Cheque: string (nullable = true)\n",
      " |--  Dishonour of Bill: string (nullable = true)\n",
      "\n"
     ]
    }
   ],
   "source": [
    "df_1.printSchema()"
   ]
  },
  {
   "cell_type": "code",
   "execution_count": 22,
   "metadata": {
    "colab": {
     "base_uri": "https://localhost:8080/",
     "height": 0
    },
    "id": "My5vYe2hmSJI",
    "outputId": "b21764c8-99cb-4abd-85de-82bca3b97b3c"
   },
   "outputs": [
    {
     "name": "stdout",
     "output_type": "stream",
     "text": [
      "root\n",
      " |-- RowNumber: string (nullable = true)\n",
      " |-- CustomerId: string (nullable = true)\n",
      " |-- Surname: string (nullable = true)\n",
      " |-- CreditScore: string (nullable = true)\n",
      " |-- Geography: string (nullable = true)\n",
      " |-- Gender: string (nullable = true)\n",
      " |-- Age: string (nullable = true)\n",
      " |-- Tenure: string (nullable = true)\n",
      " |-- Balance: string (nullable = true)\n",
      " |-- NumOfProducts: string (nullable = true)\n",
      " |-- IsActiveMember: string (nullable = true)\n",
      " |-- EstimatedSalary: string (nullable = true)\n",
      " |-- Exited: string (nullable = true)\n",
      "\n"
     ]
    }
   ],
   "source": [
    "df_2.printSchema()"
   ]
  },
  {
   "cell_type": "code",
   "execution_count": 23,
   "metadata": {
    "colab": {
     "base_uri": "https://localhost:8080/",
     "height": 0
    },
    "id": "hG0piuODg_t2",
    "outputId": "855fbd83-5ad2-428e-ecbf-9da6fada0a8a"
   },
   "outputs": [
    {
     "name": "stdout",
     "output_type": "stream",
     "text": [
      "root\n",
      " |-- Account No: string (nullable = true)\n",
      " |-- TRANSACTION DETAILS: string (nullable = true)\n",
      " |-- VALUE DATE: string (nullable = true)\n",
      " |--  WITHDRAWAL AMT : string (nullable = true)\n",
      " |--  DEPOSIT AMT : string (nullable = true)\n",
      " |-- BALANCE AMT: string (nullable = true)\n",
      "\n"
     ]
    }
   ],
   "source": [
    "df_3.printSchema()"
   ]
  },
  {
   "cell_type": "code",
   "execution_count": 24,
   "metadata": {
    "id": "DzLGGC0CnDeX"
   },
   "outputs": [],
   "source": [
    "from pyspark.sql.functions import col, regexp_replace\n",
    "from pyspark.sql.functions import when"
   ]
  },
  {
   "cell_type": "markdown",
   "metadata": {
    "id": "eXWFMF0-oDLh"
   },
   "source": [
    "fill blank 0.00"
   ]
  },
  {
   "cell_type": "code",
   "execution_count": 25,
   "metadata": {
    "id": "7F2AOm93m7y2"
   },
   "outputs": [],
   "source": [
    "#df_1\n",
    "df_1 = df_1.withColumn(\"Income\", when(col(\"Income\")==\"\",\"0.00\").otherwise(col(\"Income\")))\n",
    "df_1 = df_1.withColumn(\"Expenditure\",when(col(\"Expenditure\")==\"\",\"0.00\").otherwise(col(\"Expenditure\")))\n",
    "df_1 = df_1.withColumn(\"Loan Amount\",when(col(\"Loan Amount\")==\"\",\"0.00\").otherwise(col(\"Loan Amount\")))\n"
   ]
  },
  {
   "cell_type": "code",
   "execution_count": 26,
   "metadata": {
    "id": "Jpi76Y-opfMd"
   },
   "outputs": [],
   "source": [
    "#df_2\n",
    "df_2 = df_2.withColumn(\"CreditScore\",when(col(\"CreditScore\")==\"\",\"0.00\").otherwise(col(\"CreditScore\")))\n",
    "df_2 = df_2.withColumn(\"Balance\",when(col(\"Balance\")==\"\",\"0.00\").otherwise(col(\"Balance\")))\n",
    "df_2 = df_2.withColumn(\"EstimatedSalary\",when(col(\"EstimatedSalary\")==\"\",\"0.00\").otherwise(col(\"EstimatedSalary\")))"
   ]
  },
  {
   "cell_type": "code",
   "execution_count": 27,
   "metadata": {
    "id": "Uf2SysGMq_I9"
   },
   "outputs": [],
   "source": [
    "#df_3\n",
    "# df_3= df_3.withColumn(\"WITHDRAWAL AMT\",when(col(\"WITHDRAWAL AMT\")==\"\",\"0.00\").otherwise(col(\"WITHDRAWAL AMT\")))\n",
    "# df_3 = df_3.withColumn(\"DEPOSIT AMT\",when(col(\"DEPOSIT AMT\")==\"\",\"0.00\").otherwise(col(\"DEPOSIT AMT\")))\n",
    "df_3 = df_3.withColumn(\"BALANCE AMT\",when(col(\"BALANCE AMT\")==\"\",\"0.00\").otherwise(col(\"BALANCE AMT\")))"
   ]
  },
  {
   "cell_type": "code",
   "execution_count": 28,
   "metadata": {
    "id": "qrCMdtly0utI"
   },
   "outputs": [],
   "source": [
    "df_1 = df_1.withColumn(\"Loan Amount\",regexp_replace(col(\"Loan Amount\"),',',''))\n",
    "df_1 = df_1.withColumn(\"Income\", regexp_replace(col(\"Income\"),',',''))\n",
    "df_1 = df_1.withColumn(\"Expenditure\",regexp_replace(col(\"Expenditure\"),',',''))\n"
   ]
  },
  {
   "cell_type": "code",
   "execution_count": 29,
   "metadata": {
    "id": "-6d8jp7K1plE"
   },
   "outputs": [],
   "source": [
    "df_2 = df_2.withColumn(\"CreditScore\",regexp_replace(col(\"CreditScore\"),',',''))\n",
    "df_2 = df_2.withColumn(\"Balance\", regexp_replace(col(\"Balance\"),',',''))\n",
    "df_2 = df_2.withColumn(\"EstimatedSalary\",regexp_replace(col(\"EstimatedSalary\"),',',''))\n"
   ]
  },
  {
   "cell_type": "code",
   "execution_count": 30,
   "metadata": {
    "id": "Jx42Fa4H2BgW"
   },
   "outputs": [],
   "source": [
    "#df_3 = df_3.withColumn(\"WITHDRAWAL AMT\",regexp_replace(col(\"WITHDRAWAL AMT\"),',',''))\n",
    "#df_3 = df_3.withColumn(\"DEPOSIT AMT\", regexp_replace(col(\"DEPOSIT AMT\"),',',''))\n",
    "df_3 = df_3.withColumn(\"BALANCE AMT\",regexp_replace(col(\"BALANCE AMT\"),',',''))\n"
   ]
  },
  {
   "cell_type": "code",
   "execution_count": 31,
   "metadata": {
    "id": "xMLJnyilcYCc"
   },
   "outputs": [],
   "source": [
    "\n",
    "#df_1[\"Income\"] = df[\"Income\"].astype(int)\n",
    "df_1 = df_1.withColumn(\"Income\", col(\"Income\").cast(\"integer\"))\n",
    "df_1= df_1.withColumn(\"Loan Amount\",col(\"Loan Amount\").cast(\"integer\"))\n",
    "df_1=df_1.withColumn(\"Expenditure\",col(\"Expenditure\").cast(\"integer\"))"
   ]
  },
  {
   "cell_type": "code",
   "execution_count": 32,
   "metadata": {
    "id": "kBFIKBzPdgTk"
   },
   "outputs": [],
   "source": [
    "#df_1 = df_1.withColumn(\"Debt Record\",col(\"Debt Record\").cast(\"double\"))"
   ]
  },
  {
   "cell_type": "code",
   "execution_count": 33,
   "metadata": {
    "colab": {
     "base_uri": "https://localhost:8080/",
     "height": 0
    },
    "id": "CTpFXgLycPxU",
    "outputId": "1e9a4e21-e69a-41ba-dc0b-e16791c3ca4e"
   },
   "outputs": [
    {
     "data": {
      "text/plain": [
       "15"
      ]
     },
     "execution_count": 33,
     "metadata": {},
     "output_type": "execute_result"
    }
   ],
   "source": [
    "len(df_1.columns)"
   ]
  },
  {
   "cell_type": "code",
   "execution_count": 34,
   "metadata": {
    "colab": {
     "base_uri": "https://localhost:8080/",
     "height": 0
    },
    "id": "1z91wkH1ndHE",
    "outputId": "384c069b-c95f-4875-d367-04c671db298e"
   },
   "outputs": [
    {
     "data": {
      "text/plain": [
       "500"
      ]
     },
     "execution_count": 34,
     "metadata": {},
     "output_type": "execute_result"
    }
   ],
   "source": [
    "df_1.count()"
   ]
  },
  {
   "cell_type": "code",
   "execution_count": 35,
   "metadata": {
    "colab": {
     "base_uri": "https://localhost:8080/",
     "height": 0
    },
    "id": "xMfabbRsnpkv",
    "outputId": "36169263-af6d-4ac0-c693-b54c688769bc"
   },
   "outputs": [
    {
     "name": "stdout",
     "output_type": "stream",
     "text": [
      "+------------------+-----+\n",
      "|     Loan Category|count|\n",
      "+------------------+-----+\n",
      "|         GOLD LOAN|   77|\n",
      "|           HOUSING|   67|\n",
      "|        AUTOMOBILE|   60|\n",
      "|        TRAVELLING|   53|\n",
      "|       RESTAURANTS|   41|\n",
      "|COMPUTER SOFTWARES|   35|\n",
      "|          SHOPPING|   35|\n",
      "|          BUSINESS|   24|\n",
      "|  EDUCATIONAL LOAN|   20|\n",
      "|        RESTAURANT|   20|\n",
      "|           DINNING|   14|\n",
      "|       ELECTRONICS|   14|\n",
      "|   HOME APPLIANCES|   14|\n",
      "|       AGRICULTURE|   12|\n",
      "|       BOOK STORES|    7|\n",
      "|          BUILDING|    7|\n",
      "+------------------+-----+\n",
      "\n"
     ]
    }
   ],
   "source": [
    "df_1.groupby(\"Loan Category\").count().orderBy(\"count\",ascending=False).show()"
   ]
  },
  {
   "cell_type": "code",
   "execution_count": 42,
   "metadata": {
    "colab": {
     "base_uri": "https://localhost:8080/",
     "height": 0
    },
    "id": "NbpaVIMNoEba",
    "outputId": "d3f7cdeb-5477-4553-bece-2350edc97d9a"
   },
   "outputs": [
    {
     "data": {
      "text/plain": [
       "450"
      ]
     },
     "execution_count": 42,
     "metadata": {},
     "output_type": "execute_result"
    }
   ],
   "source": [
    "df_1.filter(df_1[\"Loan Amount\"]>\"100000\").count()"
   ]
  },
  {
   "cell_type": "code",
   "execution_count": 44,
   "metadata": {
    "colab": {
     "base_uri": "https://localhost:8080/",
     "height": 0
    },
    "id": "eirdYH2Bw5uf",
    "outputId": "8a401f62-d22a-490c-da20-93fa020f21b4"
   },
   "outputs": [
    {
     "data": {
      "text/plain": [
       "198"
      ]
     },
     "execution_count": 44,
     "metadata": {},
     "output_type": "execute_result"
    }
   ],
   "source": [
    "df_1.filter(df_1[\"Income\"]>\"60000\").count()"
   ]
  },
  {
   "cell_type": "markdown",
   "metadata": {
    "id": "34n_b27LD0Jm"
   },
   "source": [
    "Income and Expenditure by Marital Status"
   ]
  },
  {
   "cell_type": "code",
   "execution_count": 45,
   "metadata": {
    "colab": {
     "base_uri": "https://localhost:8080/",
     "height": 0
    },
    "id": "s-yJnAgTxsiM",
    "outputId": "76f0d12f-a75d-4ee8-9350-26d73df9b28c"
   },
   "outputs": [
    {
     "name": "stdout",
     "output_type": "stream",
     "text": [
      "+--------------+-----------+\n",
      "|Marital Status|sum(Income)|\n",
      "+--------------+-----------+\n",
      "|        SINGLE|    8756569|\n",
      "|       MARRIED|   23226313|\n",
      "+--------------+-----------+\n",
      "\n"
     ]
    }
   ],
   "source": [
    "df_1.groupby(\"Marital Status\").sum(\"Income\").show()"
   ]
  },
  {
   "cell_type": "code",
   "execution_count": 46,
   "metadata": {
    "colab": {
     "base_uri": "https://localhost:8080/",
     "height": 0
    },
    "id": "sC_iubypxtoJ",
    "outputId": "d3b1d691-cdc8-4a47-e1d9-7ce12d1fd0bd"
   },
   "outputs": [
    {
     "name": "stdout",
     "output_type": "stream",
     "text": [
      "+--------------+----------------+\n",
      "|Marital Status|sum(Expenditure)|\n",
      "+--------------+----------------+\n",
      "|        SINGLE|         3986776|\n",
      "|       MARRIED|         9256684|\n",
      "+--------------+----------------+\n",
      "\n"
     ]
    }
   ],
   "source": [
    "df_1.groupby(\"Marital Status\").sum(\"Expenditure\").show()"
   ]
  },
  {
   "cell_type": "code",
   "execution_count": 62,
   "metadata": {
    "id": "93xXcEU_xtq1"
   },
   "outputs": [],
   "source": [
    "agg_df = df_1.groupby(\"Marital Status\").sum(\"Income\",\"Expenditure\")"
   ]
  },
  {
   "cell_type": "code",
   "execution_count": 48,
   "metadata": {
    "id": "sK0t0Vh0xttZ"
   },
   "outputs": [],
   "source": [
    "from pyspark.sql.functions import col"
   ]
  },
  {
   "cell_type": "code",
   "execution_count": 63,
   "metadata": {
    "colab": {
     "base_uri": "https://localhost:8080/",
     "height": 0
    },
    "id": "u7MZKawN2SNj",
    "outputId": "793e6add-25c5-4f33-a3d0-261328e29548"
   },
   "outputs": [
    {
     "name": "stdout",
     "output_type": "stream",
     "text": [
      "+--------------+-----------+----------------+\n",
      "|Marital Status|sum(Income)|sum(Expenditure)|\n",
      "+--------------+-----------+----------------+\n",
      "|        SINGLE|    8756569|         3986776|\n",
      "|       MARRIED|   23226313|         9256684|\n",
      "+--------------+-----------+----------------+\n",
      "\n"
     ]
    }
   ],
   "source": [
    "agg_df.show()"
   ]
  },
  {
   "cell_type": "code",
   "execution_count": 65,
   "metadata": {
    "colab": {
     "base_uri": "https://localhost:8080/",
     "height": 0
    },
    "id": "E60ha_dm2YaI",
    "outputId": "0702ba44-7070-4055-9e34-8d5d3bc20a8b"
   },
   "outputs": [
    {
     "name": "stdout",
     "output_type": "stream",
     "text": [
      "+--------------+-----------+----------------+------------------+\n",
      "|Marital Status|sum(Income)|sum(Expenditure)|             exp_%|\n",
      "+--------------+-----------+----------------+------------------+\n",
      "|        SINGLE|    8756569|         3986776|45.528973733890524|\n",
      "|       MARRIED|   23226313|         9256684| 39.85429801105324|\n",
      "+--------------+-----------+----------------+------------------+\n",
      "\n"
     ]
    }
   ],
   "source": [
    "agg_df.withColumn(\"exp_%\",col(\"sum(Expenditure)\")/col(\"sum(Income)\")*100).show()"
   ]
  },
  {
   "cell_type": "markdown",
   "metadata": {
    "id": "mFtMx5grETbk"
   },
   "source": [
    "Income and Expenditure by Occupation"
   ]
  },
  {
   "cell_type": "code",
   "execution_count": 71,
   "metadata": {
    "id": "3Zc5Rexl4UD5"
   },
   "outputs": [],
   "source": [
    "occ_df=df_1.groupby(\"Occupation\").sum(\"Income\",\"Expenditure\")"
   ]
  },
  {
   "cell_type": "code",
   "execution_count": 77,
   "metadata": {
    "colab": {
     "base_uri": "https://localhost:8080/",
     "height": 0
    },
    "id": "cDvKkbLz4x9t",
    "outputId": "64637580-bfce-4960-f99b-2f341be22afe"
   },
   "outputs": [
    {
     "name": "stdout",
     "output_type": "stream",
     "text": [
      "+--------------------+-----------+----------------+------------------+\n",
      "|          Occupation|sum(Income)|sum(Expenditure)|         occ_exp_%|\n",
      "+--------------------+-----------+----------------+------------------+\n",
      "|      SYSTEM OFFICER|      56780|          125183|220.47023599859105|\n",
      "|    PRODUCT ENGINEER|     606380|          615321|101.47448794485305|\n",
      "|           EXECUTIVE|     462423|          289601|62.626858958140055|\n",
      "|   ASSISTANT MANAGER|     329197|          198698|  60.3583872271011|\n",
      "|      CIVIL ENGINEER|     181079|          108083|59.688312835834076|\n",
      "|             MANAGER|      85032|           49134| 57.78295230031048|\n",
      "|           NUTRITION|      55650|           31245|56.145552560646905|\n",
      "|   SOFTWARE ENGINEER|    1833234|         1018846| 55.57642941381188|\n",
      "|     AIRPORT OFFICER|     962915|          522353| 54.24705192047065|\n",
      "|        PUBLIC WORKS|     258873|          139934|54.055077200016996|\n",
      "|            BUSINESS|     906921|          489026|53.921565384416056|\n",
      "|          ACCOUNTANT|     396363|          209760|52.921185882637886|\n",
      "| ASSISTANT PROFESSOR|     479874|          253456| 52.81719784776837|\n",
      "|     SYSTEM ENGINEER|     181528|           91224| 50.25340443347582|\n",
      "|               PILOT|    1147651|          550128|  47.9351301048838|\n",
      "| CHARTERED APPRAISER|     841024|          400989| 47.67866315348908|\n",
      "|AGRICULTURAL ENGI...|     656485|          309404| 47.13039901901795|\n",
      "|           DIETICIAN|     871190|          410494|47.118768580906575|\n",
      "|              POLICE|     882898|          409109|46.337062718456714|\n",
      "|               NURSE|     434631|          193733| 44.57413300017716|\n",
      "|     FIRE DEPARTMENT|     664295|          296016| 44.56092549243935|\n",
      "|             TEACHER|    3168764|         1411785|44.553175938630964|\n",
      "|          TECHNICIAN|     614682|          269287| 43.80915660455325|\n",
      "|              FARMER|     524348|          226511| 43.19860092915392|\n",
      "|                NAVY|    1139055|          486747|  42.7325282800216|\n",
      "|       DATA ENGINEER|     450816|          192143| 42.62115807779671|\n",
      "|         ELECTRICIAN|     365603|          153838|  42.0778822930884|\n",
      "|              DOCTOR|    1808363|          755200| 41.76152686158697|\n",
      "|           PROFESSOR|     474740|          198189| 41.74685090786536|\n",
      "|      SYSTEM MANAGER|     553792|          226932| 40.97784005547209|\n",
      "|             DENTIST|     564891|          231128|40.915504052994294|\n",
      "|        DATA ANALYST|     483523|          190944| 39.49015868945221|\n",
      "|              DRIVER|    1160115|          415557|35.820328157122354|\n",
      "|        BANK MANAGER|    2396966|          806774|  33.6581328229103|\n",
      "|        STORE KEEPER|     199914|           67198|33.613453785127604|\n",
      "|                ARMY|     394413|          125977| 31.94037721880364|\n",
      "|               CLERK|    1844907|          534876|28.992030492593933|\n",
      "|   CORPORATE OFFICER|     152593|           19509|12.784990137162255|\n",
      "|     ACCOUNT MANAGER|    3390974|          219128|  6.46209614110872|\n",
      "+--------------------+-----------+----------------+------------------+\n",
      "\n"
     ]
    }
   ],
   "source": [
    "r_df = occ_df.withColumn(\"occ_exp_%\",col(\"sum(Expenditure)\")/col(\"sum(Income)\")*100)\n",
    "r_df.orderBy(col(\"occ_exp_%\").desc()).show(r_df.count())"
   ]
  },
  {
   "cell_type": "markdown",
   "metadata": {
    "id": "El4T1fKtFuCJ"
   },
   "source": [
    "Income and Expenditure by Gender"
   ]
  },
  {
   "cell_type": "code",
   "execution_count": 81,
   "metadata": {
    "colab": {
     "base_uri": "https://localhost:8080/",
     "height": 0
    },
    "id": "9fQBka104w86",
    "outputId": "63ed7b5b-73f2-4863-a78b-df936da64138"
   },
   "outputs": [
    {
     "name": "stdout",
     "output_type": "stream",
     "text": [
      "+------+-----------+----------------+\n",
      "|Gender|sum(Income)|sum(Expenditure)|\n",
      "+------+-----------+----------------+\n",
      "|  MALE|   16048108|         7569675|\n",
      "|FEMALE|   15934774|         5673785|\n",
      "+------+-----------+----------------+\n",
      "\n"
     ]
    }
   ],
   "source": [
    "mf_df = df_1.groupby(\"Gender\").sum(\"Income\",\"Expenditure\")\n",
    "mf_df.show()"
   ]
  },
  {
   "cell_type": "code",
   "execution_count": 83,
   "metadata": {
    "colab": {
     "base_uri": "https://localhost:8080/",
     "height": 0
    },
    "id": "nSWoDkxd4SuG",
    "outputId": "0ea3f04f-e091-4bae-df1b-ac7814c4404a"
   },
   "outputs": [
    {
     "name": "stdout",
     "output_type": "stream",
     "text": [
      "+------+-----------+----------------+-----------------+\n",
      "|Gender|sum(Income)|sum(Expenditure)|    male_female_%|\n",
      "+------+-----------+----------------+-----------------+\n",
      "|  MALE|   16048108|         7569675|47.16864442836501|\n",
      "|FEMALE|   15934774|         5673785| 35.6063098227813|\n",
      "+------+-----------+----------------+-----------------+\n",
      "\n"
     ]
    }
   ],
   "source": [
    "r_m_f_df=mf_df.withColumn(\"male_female_%\",col(\"sum(Expenditure)\")/col(\"sum(Income)\")*100)\n",
    "r_m_f_df.show()"
   ]
  },
  {
   "cell_type": "markdown",
   "metadata": {
    "id": "oJzmz7TfHtrC"
   },
   "source": []
  },
  {
   "cell_type": "code",
   "execution_count": 86,
   "metadata": {
    "id": "MDJ-T3jMI9VQ"
   },
   "outputs": [],
   "source": [
    "from pyspark.sql.functions import sum"
   ]
  },
  {
   "cell_type": "code",
   "execution_count": 88,
   "metadata": {
    "id": "ABARPLtfHina"
   },
   "outputs": [],
   "source": [
    "category_totals = df_1.groupBy(\"Loan Category\").agg(sum(\"Loan Amount\").alias(\"Total_Loan_Amount\"))\n"
   ]
  },
  {
   "cell_type": "code",
   "execution_count": 90,
   "metadata": {
    "id": "IgQ8c3TaHiqI"
   },
   "outputs": [],
   "source": [
    "overall_total = category_totals.agg(sum(\"Total_Loan_Amount\").alias(\"Overall_Total_Loan_Amount\")).collect()[0][\"Overall_Total_Loan_Amount\"]\n"
   ]
  },
  {
   "cell_type": "code",
   "execution_count": 92,
   "metadata": {
    "colab": {
     "base_uri": "https://localhost:8080/",
     "height": 0
    },
    "id": "ytZeYPmdHitM",
    "outputId": "5f7b9aa4-383e-4037-944e-33ac98c1fb00"
   },
   "outputs": [
    {
     "name": "stdout",
     "output_type": "stream",
     "text": [
      "+------------------+-----------------+-------------------+\n",
      "|     Loan Category|Total_Loan_Amount|Percentage_of_Total|\n",
      "+------------------+-----------------+-------------------+\n",
      "|           HOUSING|         60346129| 15.142314682356254|\n",
      "|        TRAVELLING|         36608973|   9.18608365689676|\n",
      "|       BOOK STORES|          3681651| 0.9238159748840158|\n",
      "|       AGRICULTURE|         11590221|  2.908268956573068|\n",
      "|         GOLD LOAN|         70991425| 17.813478924205604|\n",
      "|  EDUCATIONAL LOAN|         18394223|  4.615558903594877|\n",
      "|        AUTOMOBILE|         56542964| 14.188007883010043|\n",
      "|          BUSINESS|         23368358| 5.8636906179343695|\n",
      "|COMPUTER SOFTWARES|         34810861|  8.734893527731707|\n",
      "|           DINNING|          9167850| 2.3004370282083837|\n",
      "|          SHOPPING|         15645414|  3.925815724215584|\n",
      "|       RESTAURANTS|         25006754|  6.274804109676545|\n",
      "|       ELECTRONICS|          8970419| 2.2508967779952793|\n",
      "|          BUILDING|          3792037| 0.9515145129050143|\n",
      "|        RESTAURANT|         11729243|  2.943152964986773|\n",
      "|   HOME APPLIANCES|          7879927|  1.977265754825723|\n",
      "+------------------+-----------------+-------------------+\n",
      "\n"
     ]
    }
   ],
   "source": [
    "percentage_df = category_totals.withColumn(\n",
    "    \"Percentage_of_Total\",\n",
    "    (col(\"Total_Loan_Amount\") / overall_total) * 100\n",
    ")\n",
    "percentage_df.show()"
   ]
  },
  {
   "cell_type": "code",
   "execution_count": 105,
   "metadata": {
    "colab": {
     "base_uri": "https://localhost:8080/",
     "height": 0
    },
    "id": "rg5OdfrTHiwE",
    "outputId": "db556eb0-f1cc-4cbc-81d0-5819c1fefb0d"
   },
   "outputs": [
    {
     "data": {
      "text/plain": [
       "137"
      ]
     },
     "execution_count": 105,
     "metadata": {},
     "output_type": "execute_result"
    }
   ],
   "source": [
    "#number of people with 2 or more returned cheques and income less than 50000\n",
    "df_1.filter((col(\" Returned Cheque\")>\"1\")& (col(\"Income\")<\"50000\")).count()\n"
   ]
  },
  {
   "cell_type": "code",
   "execution_count": 109,
   "metadata": {
    "colab": {
     "base_uri": "https://localhost:8080/",
     "height": 0
    },
    "id": "TlnNMU8Ibu1c",
    "outputId": "25109c2a-6a10-440f-a734-d39395ebfa06"
   },
   "outputs": [
    {
     "data": {
      "text/plain": [
       "111"
      ]
     },
     "execution_count": 109,
     "metadata": {},
     "output_type": "execute_result"
    }
   ],
   "source": [
    "#number of people with 2 or more returned cheques and are single\n",
    "df_1.filter((col(\" Returned Cheque\")>=\"2\") & (col(\"Marital Status\")==\"SINGLE\")).count()"
   ]
  },
  {
   "cell_type": "code",
   "execution_count": 110,
   "metadata": {
    "colab": {
     "base_uri": "https://localhost:8080/",
     "height": 0
    },
    "id": "MZGalOqZL3D0",
    "outputId": "0dc4f7b1-f96e-4321-e0be-8c1ca18ab956"
   },
   "outputs": [
    {
     "data": {
      "text/plain": [
       "10000"
      ]
     },
     "execution_count": 110,
     "metadata": {},
     "output_type": "execute_result"
    }
   ],
   "source": [
    "df_2.count()"
   ]
  },
  {
   "cell_type": "code",
   "execution_count": 112,
   "metadata": {
    "colab": {
     "base_uri": "https://localhost:8080/",
     "height": 0
    },
    "id": "7sTjQQbyfNjU",
    "outputId": "977cf516-d5b0-49b1-cb4f-6971bdbb8721"
   },
   "outputs": [
    {
     "data": {
      "text/plain": [
       "13"
      ]
     },
     "execution_count": 112,
     "metadata": {},
     "output_type": "execute_result"
    }
   ],
   "source": [
    "len(df_2.columns)"
   ]
  },
  {
   "cell_type": "code",
   "execution_count": 115,
   "metadata": {
    "colab": {
     "base_uri": "https://localhost:8080/",
     "height": 0
    },
    "id": "doPdsSgefep2",
    "outputId": "7b54d667-db73-429c-c8a4-e2e1a3c36d88"
   },
   "outputs": [
    {
     "data": {
      "text/plain": [
       "10000"
      ]
     },
     "execution_count": 115,
     "metadata": {},
     "output_type": "execute_result"
    }
   ],
   "source": [
    "df_2.distinct().count()"
   ]
  },
  {
   "cell_type": "code",
   "execution_count": 117,
   "metadata": {
    "colab": {
     "base_uri": "https://localhost:8080/",
     "height": 0
    },
    "id": "jVNLH6GXgLxN",
    "outputId": "8e4090b4-8b80-4e83-b4a8-9f9bca45aad4"
   },
   "outputs": [
    {
     "data": {
      "text/plain": [
       "3148"
      ]
     },
     "execution_count": 117,
     "metadata": {},
     "output_type": "execute_result"
    }
   ],
   "source": [
    "#number of members who are elgible for credit card\n",
    "df_2.filter((col(\"CreditScore\")>=\"700\")).count()"
   ]
  },
  {
   "cell_type": "code",
   "execution_count": 121,
   "metadata": {
    "colab": {
     "base_uri": "https://localhost:8080/",
     "height": 0
    },
    "id": "6kBBDYsyg7yu",
    "outputId": "212fc7c4-173f-4940-f7a0-87187f85ee60"
   },
   "outputs": [
    {
     "name": "stdout",
     "output_type": "stream",
     "text": [
      "+------+-----+\n",
      "|Gender|count|\n",
      "+------+-----+\n",
      "|Female| 1434|\n",
      "|  Male| 1714|\n",
      "+------+-----+\n",
      "\n"
     ]
    }
   ],
   "source": [
    "cs_df=df_2.filter((col(\"CreditScore\")>=\"700\"))\n",
    "cs_df.groupby(\"Gender\").count().show()"
   ]
  },
  {
   "cell_type": "code",
   "execution_count": 123,
   "metadata": {
    "colab": {
     "base_uri": "https://localhost:8080/",
     "height": 0
    },
    "id": "je0jlqwmg715",
    "outputId": "185f5614-2b0b-4dd0-ed7a-20c5623d9f44"
   },
   "outputs": [
    {
     "data": {
      "text/plain": [
       "1637"
      ]
     },
     "execution_count": 123,
     "metadata": {},
     "output_type": "execute_result"
    }
   ],
   "source": [
    "#number of members who are  elgible and active in the bank\n",
    "df_2.filter((col(\"IsActiveMember\")==\"1\")& (col(\"CreditScore\")>\"700\")).count()"
   ]
  },
  {
   "cell_type": "code",
   "execution_count": 124,
   "metadata": {
    "colab": {
     "base_uri": "https://localhost:8080/",
     "height": 0
    },
    "id": "1DJv3mMBg75a",
    "outputId": "b094458c-5958-4c33-95cb-0c0b6dbc1250"
   },
   "outputs": [
    {
     "data": {
      "text/plain": [
       "714"
      ]
     },
     "execution_count": 124,
     "metadata": {},
     "output_type": "execute_result"
    }
   ],
   "source": [
    "df_2.filter((col(\"IsActiveMember\")==\"1\")& (col(\"CreditScore\")>\"700\") & (col(\"Gender\")==\"Female\")).count()"
   ]
  },
  {
   "cell_type": "code",
   "execution_count": 131,
   "metadata": {
    "id": "GRSaeiECg77z"
   },
   "outputs": [],
   "source": [
    "df_count = df_2.filter((col(\"IsActiveMember\")==\"1\")& (col(\"CreditScore\")>\"700\") & (col(\"Gender\")==\"Male\"))"
   ]
  },
  {
   "cell_type": "code",
   "execution_count": 137,
   "metadata": {
    "colab": {
     "base_uri": "https://localhost:8080/",
     "height": 0
    },
    "id": "oWxXunzFlka-",
    "outputId": "5cfb6346-91d8-477a-b013-2ad94a579fe9"
   },
   "outputs": [
    {
     "name": "stdout",
     "output_type": "stream",
     "text": [
      "+---------+----------+---------+-----------+---------+------+---+------+---------+-------------+--------------+---------------+------+\n",
      "|RowNumber|CustomerId|  Surname|CreditScore|Geography|Gender|Age|Tenure|  Balance|NumOfProducts|IsActiveMember|EstimatedSalary|Exited|\n",
      "+---------+----------+---------+-----------+---------+------+---+------+---------+-------------+--------------+---------------+------+\n",
      "|        7|  15592531| Bartlett|        822|   France|  Male| 50|     7|     0.00|            2|             1|       10062.80|     0|\n",
      "|       21|  15577657| McDonald|        732|   France|  Male| 41|     8|     0.00|            2|             1|      170886.17|     0|\n",
      "|       27|  15736816|    Young|        756|  Germany|  Male| 36|     2|136815.64|            1|             1|      170041.95|     0|\n",
      "|       38|  15729599|  Lorenzo|        804|    Spain|  Male| 33|     7| 76548.60|            1|             1|       98453.45|     0|\n",
      "|       39|  15717426|Armstrong|        850|   France|  Male| 36|     7|     0.00|            1|             1|       40812.90|     0|\n",
      "|       68|  15641582|  Chibugo|        735|  Germany|  Male| 43|    10|123180.01|            2|             1|      196673.28|     0|\n",
      "|       79|  15575185|  Bushell|        757|    Spain|  Male| 33|     5| 77253.22|            1|             1|      194239.63|     0|\n",
      "|       94|  15640635|    Capon|        769|   France|  Male| 29|     8|     0.00|            2|             1|      172290.61|     0|\n",
      "|       95|  15676966|    Capon|        730|    Spain|  Male| 42|     4|     0.00|            2|             1|       85982.47|     0|\n",
      "|       97|  15738721|   Graham|        773|    Spain|  Male| 41|     9|102827.44|            1|             1|       64595.25|     0|\n",
      "|       98|  15693683|   Yuille|        814|  Germany|  Male| 29|     8| 97086.40|            2|             1|      197276.13|     0|\n",
      "|      115|  15609618|  Fanucci|        721|  Germany|  Male| 28|     9|154475.54|            2|             1|      101300.94|     1|\n",
      "|      135|  15712543|Chinweike|        789|  Germany|  Male| 39|     7|124828.46|            2|             1|      124411.08|     0|\n",
      "|      196|  15594815| Aleshire|        807|   France|  Male| 35|     3|174790.15|            1|             1|         600.36|     0|\n",
      "|      198|  15777892|Samsonova|        721|  Germany|  Male| 37|     3|107720.64|            1|             1|      158591.12|     0|\n",
      "|      201|  15604482|Chiemezie|        850|    Spain|  Male| 30|     2|141040.01|            1|             1|        5978.20|     0|\n",
      "|      202|  15622911|     Jude|        759|   France|  Male| 42|     4|105420.18|            1|             1|      121409.06|     0|\n",
      "|      234|  15723886|    Fiore|        767|  Germany|  Male| 20|     3|119714.25|            2|             1|      150135.38|     0|\n",
      "|      240|  15795149|  Stevens|        703|   France|  Male| 28|     2| 81173.83|            2|             1|      162812.16|     0|\n",
      "|      243|  15813844|   Barnes|        703|   France|  Male| 37|     8|105961.68|            2|             1|       74158.80|     0|\n",
      "+---------+----------+---------+-----------+---------+------+---+------+---------+-------------+--------------+---------------+------+\n",
      "only showing top 20 rows\n",
      "\n"
     ]
    }
   ],
   "source": [
    "from pyspark.sql.functions import count\n",
    "df_count.show()"
   ]
  },
  {
   "cell_type": "code",
   "execution_count": 139,
   "metadata": {
    "colab": {
     "base_uri": "https://localhost:8080/",
     "height": 0
    },
    "id": "g7VETfqYg7-f",
    "outputId": "1c8a008b-a904-4dca-8b0b-de85f285a5f0"
   },
   "outputs": [
    {
     "name": "stdout",
     "output_type": "stream",
     "text": [
      "+---------+-----+\n",
      "|Geography|count|\n",
      "+---------+-----+\n",
      "|  Germany|  223|\n",
      "|   France|  459|\n",
      "|    Spain|  241|\n",
      "+---------+-----+\n",
      "\n"
     ]
    }
   ],
   "source": [
    "df_count.groupby(\"Geography\").count().show()"
   ]
  },
  {
   "cell_type": "code",
   "execution_count": 140,
   "metadata": {
    "colab": {
     "base_uri": "https://localhost:8080/",
     "height": 0
    },
    "id": "3zzQFwWdn2pm",
    "outputId": "85f8f910-5f8d-489c-92e4-e398c9e23608"
   },
   "outputs": [
    {
     "data": {
      "text/plain": [
       "1044"
      ]
     },
     "execution_count": 140,
     "metadata": {},
     "output_type": "execute_result"
    }
   ],
   "source": [
    "df_2.filter((df_2[\"EstimatedSalary\"]>100000) & (df_2[\"Exited\"]==1)).count()\n"
   ]
  },
  {
   "cell_type": "code",
   "execution_count": 141,
   "metadata": {
    "colab": {
     "base_uri": "https://localhost:8080/",
     "height": 0
    },
    "id": "uzpv3dLFn2wu",
    "outputId": "27936e1d-2d04-4a7c-8399-63b136b25bbe"
   },
   "outputs": [
    {
     "data": {
      "text/plain": [
       "2432"
      ]
     },
     "execution_count": 141,
     "metadata": {},
     "output_type": "execute_result"
    }
   ],
   "source": [
    "df_2.filter((df_2[\"EstimatedSalary\"]<100000) & (df_2[\"NumOfProducts\"]>1)).count()\n"
   ]
  },
  {
   "cell_type": "markdown",
   "metadata": {
    "id": "4laDxGSCobSG"
   },
   "source": [
    "TRANSACTION Data"
   ]
  },
  {
   "cell_type": "code",
   "execution_count": 144,
   "metadata": {
    "colab": {
     "base_uri": "https://localhost:8080/",
     "height": 0
    },
    "id": "U2W4KSeLn22U",
    "outputId": "911e376a-fa2f-4ce7-f530-b0dc0311cc8a"
   },
   "outputs": [
    {
     "name": "stdout",
     "output_type": "stream",
     "text": [
      "+-------------+-----+\n",
      "|   Account No|count|\n",
      "+-------------+-----+\n",
      "|409000438611'| 4588|\n",
      "|     1196711'|10536|\n",
      "|     1196428'|48779|\n",
      "|409000493210'| 6014|\n",
      "|409000611074'| 1093|\n",
      "|409000425051'|  802|\n",
      "|409000405747'|   51|\n",
      "|409000362497'|29840|\n",
      "|409000493201'| 1044|\n",
      "|409000438620'|13454|\n",
      "+-------------+-----+\n",
      "\n"
     ]
    }
   ],
   "source": [
    "#COUNT OF TRANSACTION ON EVERY ACCOUNT\n",
    "df_3.groupby(\"Account No\").count().show()"
   ]
  },
  {
   "cell_type": "code",
   "execution_count": 149,
   "metadata": {
    "colab": {
     "base_uri": "https://localhost:8080/",
     "height": 0
    },
    "id": "CtBWDjGUoYlb",
    "outputId": "5c2f320c-df74-42b9-ff5f-fa32d3dc8809"
   },
   "outputs": [
    {
     "name": "stdout",
     "output_type": "stream",
     "text": [
      "+----------+-----+\n",
      "|VALUE DATE|count|\n",
      "+----------+-----+\n",
      "| 27-Jul-17|  567|\n",
      "| 13-Aug-18|  463|\n",
      "| 08-Nov-17|  402|\n",
      "| 07-Oct-17|  382|\n",
      "| 10-Jul-18|  374|\n",
      "| 12-Dec-17|  367|\n",
      "| 12-Sep-18|  365|\n",
      "| 09-Aug-18|  360|\n",
      "| 19-Sep-17|  358|\n",
      "| 16-Mar-17|  353|\n",
      "| 10-Sep-18|  344|\n",
      "| 14-Jul-17|  333|\n",
      "| 07-Mar-18|  319|\n",
      "| 11-Oct-18|  303|\n",
      "| 22-Aug-17|  301|\n",
      "| 09-Jan-18|  299|\n",
      "| 09-Oct-18|  297|\n",
      "| 20-Apr-18|  296|\n",
      "| 09-Jul-18|  292|\n",
      "| 07-Apr-18|  291|\n",
      "+----------+-----+\n",
      "only showing top 20 rows\n",
      "\n"
     ]
    }
   ],
   "source": [
    "df_3.groupBy(\"VALUE DATE\").count().orderBy(\"count\", ascending = False).show()\n"
   ]
  },
  {
   "cell_type": "code",
   "execution_count": null,
   "metadata": {
    "id": "k73tUF0Qqzue"
   },
   "outputs": [],
   "source": []
  },
  {
   "cell_type": "markdown",
   "metadata": {
    "id": "CdxUO48Cqigq"
   },
   "source": [
    "Thank you"
   ]
  }
 ],
 "metadata": {
  "colab": {
   "provenance": []
  },
  "kernelspec": {
   "display_name": "Python 3 (ipykernel)",
   "language": "python",
   "name": "python3"
  },
  "language_info": {
   "codemirror_mode": {
    "name": "ipython",
    "version": 3
   },
   "file_extension": ".py",
   "mimetype": "text/x-python",
   "name": "python",
   "nbconvert_exporter": "python",
   "pygments_lexer": "ipython3",
   "version": "3.9.13"
  }
 },
 "nbformat": 4,
 "nbformat_minor": 1
}
